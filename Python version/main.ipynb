{
 "cells": [
  {
   "cell_type": "markdown",
   "metadata": {},
   "source": [
    "# Projet Bayes 2 - Hearts"
   ]
  },
  {
   "cell_type": "markdown",
   "metadata": {},
   "source": [
    "## Importation des données"
   ]
  },
  {
   "cell_type": "code",
   "execution_count": 54,
   "metadata": {},
   "outputs": [],
   "source": [
    "import pandas as pd\n",
    "import numpy as np\n",
    "import os\n",
    "import matplotlib.pyplot as plt"
   ]
  },
  {
   "cell_type": "code",
   "execution_count": 7,
   "metadata": {},
   "outputs": [],
   "source": [
    "path = \"data.csv\""
   ]
  },
  {
   "cell_type": "code",
   "execution_count": 10,
   "metadata": {},
   "outputs": [
    {
     "data": {
      "text/html": [
       "<div>\n",
       "<style scoped>\n",
       "    .dataframe tbody tr th:only-of-type {\n",
       "        vertical-align: middle;\n",
       "    }\n",
       "\n",
       "    .dataframe tbody tr th {\n",
       "        vertical-align: top;\n",
       "    }\n",
       "\n",
       "    .dataframe thead th {\n",
       "        text-align: right;\n",
       "    }\n",
       "</style>\n",
       "<table border=\"1\" class=\"dataframe\">\n",
       "  <thead>\n",
       "    <tr style=\"text-align: right;\">\n",
       "      <th></th>\n",
       "      <th>Unnamed: 0</th>\n",
       "      <th>t</th>\n",
       "      <th>x</th>\n",
       "      <th>y</th>\n",
       "    </tr>\n",
       "  </thead>\n",
       "  <tbody>\n",
       "    <tr>\n",
       "      <th>0</th>\n",
       "      <td>1</td>\n",
       "      <td>11</td>\n",
       "      <td>6</td>\n",
       "      <td>5</td>\n",
       "    </tr>\n",
       "    <tr>\n",
       "      <th>1</th>\n",
       "      <td>2</td>\n",
       "      <td>11</td>\n",
       "      <td>9</td>\n",
       "      <td>2</td>\n",
       "    </tr>\n",
       "    <tr>\n",
       "      <th>2</th>\n",
       "      <td>3</td>\n",
       "      <td>17</td>\n",
       "      <td>17</td>\n",
       "      <td>0</td>\n",
       "    </tr>\n",
       "    <tr>\n",
       "      <th>3</th>\n",
       "      <td>4</td>\n",
       "      <td>22</td>\n",
       "      <td>22</td>\n",
       "      <td>0</td>\n",
       "    </tr>\n",
       "    <tr>\n",
       "      <th>4</th>\n",
       "      <td>5</td>\n",
       "      <td>9</td>\n",
       "      <td>7</td>\n",
       "      <td>2</td>\n",
       "    </tr>\n",
       "    <tr>\n",
       "      <th>5</th>\n",
       "      <td>6</td>\n",
       "      <td>6</td>\n",
       "      <td>5</td>\n",
       "      <td>1</td>\n",
       "    </tr>\n",
       "    <tr>\n",
       "      <th>6</th>\n",
       "      <td>7</td>\n",
       "      <td>5</td>\n",
       "      <td>5</td>\n",
       "      <td>0</td>\n",
       "    </tr>\n",
       "    <tr>\n",
       "      <th>7</th>\n",
       "      <td>8</td>\n",
       "      <td>14</td>\n",
       "      <td>14</td>\n",
       "      <td>0</td>\n",
       "    </tr>\n",
       "    <tr>\n",
       "      <th>8</th>\n",
       "      <td>9</td>\n",
       "      <td>9</td>\n",
       "      <td>9</td>\n",
       "      <td>0</td>\n",
       "    </tr>\n",
       "    <tr>\n",
       "      <th>9</th>\n",
       "      <td>10</td>\n",
       "      <td>7</td>\n",
       "      <td>7</td>\n",
       "      <td>0</td>\n",
       "    </tr>\n",
       "    <tr>\n",
       "      <th>10</th>\n",
       "      <td>11</td>\n",
       "      <td>22</td>\n",
       "      <td>9</td>\n",
       "      <td>13</td>\n",
       "    </tr>\n",
       "    <tr>\n",
       "      <th>11</th>\n",
       "      <td>12</td>\n",
       "      <td>51</td>\n",
       "      <td>51</td>\n",
       "      <td>0</td>\n",
       "    </tr>\n",
       "  </tbody>\n",
       "</table>\n",
       "</div>"
      ],
      "text/plain": [
       "    Unnamed: 0   t   x   y\n",
       "0            1  11   6   5\n",
       "1            2  11   9   2\n",
       "2            3  17  17   0\n",
       "3            4  22  22   0\n",
       "4            5   9   7   2\n",
       "5            6   6   5   1\n",
       "6            7   5   5   0\n",
       "7            8  14  14   0\n",
       "8            9   9   9   0\n",
       "9           10   7   7   0\n",
       "10          11  22   9  13\n",
       "11          12  51  51   0"
      ]
     },
     "execution_count": 10,
     "metadata": {},
     "output_type": "execute_result"
    }
   ],
   "source": [
    "data = pd.read_csv(path)\n",
    "data"
   ]
  },
  {
   "cell_type": "markdown",
   "metadata": {},
   "source": [
    "## Échantilloneur"
   ]
  },
  {
   "cell_type": "code",
   "execution_count": 12,
   "metadata": {},
   "outputs": [],
   "source": [
    "def sigmoid(x):\n",
    "    return 1. / (1. + np.exp(-x))"
   ]
  },
  {
   "cell_type": "code",
   "execution_count": 20,
   "metadata": {},
   "outputs": [],
   "source": [
    "init = [0,0]"
   ]
  },
  {
   "cell_type": "code",
   "execution_count": 157,
   "metadata": {},
   "outputs": [],
   "source": [
    "def MH (data,init,n,prop_sd,sigma = 1e2) :\n",
    "    # X = [alpha, beta, delta, theta]\n",
    "    X = np.zeros((n+1,4), dtype=np.float32)\n",
    "    X[0] = [init[0],\n",
    "            np.exp(init[0]),\n",
    "            init[1],\n",
    "            sigmoid(init[1])]\n",
    "    id0 = (data[\"y\"] == 0)\n",
    "    id_sup = ~id0\n",
    "    \n",
    "    # Calcul des probas d'acceptation\n",
    "    P = [0,0]\n",
    "    \n",
    "    for i in range(1,n+1) :\n",
    "        # Calcul de alpha\n",
    "        alpha = X[i-1,0]\n",
    "        theta = X[i-1,3]\n",
    "        prop_alpha = np.random.normal(alpha,prop_sd[0])\n",
    "        \n",
    "        def log_pdf_alpha(x) :\n",
    "            p = sigmoid(x)\n",
    "            \n",
    "            s = -(x**2)/(2*sigma**2) + \\\n",
    "            np.sum(np.log(theta + (1-theta)*(1-p)*data[id0][\"t\"])) + \\\n",
    "            np.sum(data[id_sup][\"y\"]*np.log(p) + (data[id_sup][\"t\"] - data[id_sup][\"y\"])*np.log(1-p))\n",
    "            \n",
    "            return s\n",
    "        \n",
    "        top = log_pdf_alpha(prop_alpha)\n",
    "        bottom = log_pdf_alpha(alpha)\n",
    "        acc = np.exp(top - bottom)\n",
    "        \n",
    "        if np.random.uniform() < acc :\n",
    "            X[i,0] = prop_alpha\n",
    "            P[0] +=1\n",
    "        else : \n",
    "            X[i,0] = alpha\n",
    "        \n",
    "        # Calcul de delta\n",
    "        delta = X[i-1,2]\n",
    "        p = sigmoid(X[i,0])\n",
    "        prop_delta = np.random.normal(delta,prop_sd[1])\n",
    "        \n",
    "        def log_pdf_delta(x) :\n",
    "            theta = sigmoid(x)\n",
    "            \n",
    "            s = -(x**2)/(2*sigma**2) + \\\n",
    "            np.sum(np.log(theta + (1-theta)*(1-p)*data[id0][\"t\"])) + \\\n",
    "            np.log(1-theta)*np.sum(id_sup)\n",
    "            \n",
    "            return s\n",
    "        \n",
    "        top = log_pdf_delta(prop_delta)\n",
    "        bottom = log_pdf_delta(delta)\n",
    "\n",
    "        acc = np.exp(top - bottom)\n",
    "        #print(acc)\n",
    "        if np.random.uniform() < acc :\n",
    "            X[i,2] = prop_delta\n",
    "            P[1] += 1\n",
    "        else : \n",
    "            X[i,2] = delta\n",
    "            \n",
    "        # Calcul de beta et theta\n",
    "        X[i,1] = np.exp(X[i,0])\n",
    "        X[i,3] = sigmoid(X[i,2])\n",
    "        \n",
    "    return (X,np.array(P)/n)"
   ]
  },
  {
   "cell_type": "code",
   "execution_count": 192,
   "metadata": {},
   "outputs": [
    {
     "name": "stderr",
     "output_type": "stream",
     "text": [
      "C:\\Users\\vivis\\Anaconda3\\lib\\site-packages\\ipykernel_launcher.py:2: RuntimeWarning: overflow encountered in exp\n",
      "  \n",
      "C:\\Users\\vivis\\Anaconda3\\lib\\site-packages\\ipykernel_launcher.py:49: RuntimeWarning: divide by zero encountered in log\n"
     ]
    }
   ],
   "source": [
    "X,P = MH(data,init,10**4,[0.05,1])"
   ]
  },
  {
   "cell_type": "markdown",
   "metadata": {},
   "source": [
    "## Analyse des résultats"
   ]
  },
  {
   "cell_type": "code",
   "execution_count": 193,
   "metadata": {},
   "outputs": [],
   "source": [
    "X_burn = X[1000:]\n",
    "alpha = X_burn[:,0]\n",
    "beta = X_burn[:,1]\n",
    "delta = X_burn[:,2]\n",
    "theta = X_burn[:,3]"
   ]
  },
  {
   "cell_type": "code",
   "execution_count": 194,
   "metadata": {},
   "outputs": [
    {
     "data": {
      "text/plain": [
       "Text(0.5, 1.0, 'Theta')"
      ]
     },
     "execution_count": 194,
     "metadata": {},
     "output_type": "execute_result"
    },
    {
     "data": {
      "image/png": "[encoded data removed]",
      "text/plain": [
       "<Figure size 720x720 with 4 Axes>"
      ]
     },
     "metadata": {
      "needs_background": "light"
     },
     "output_type": "display_data"
    }
   ],
   "source": [
    "fig, ax = plt.subplots(2,2, figsize=(10, 10))\n",
    "\n",
    "# alpha\n",
    "ax[0,0].plot(alpha)\n",
    "ax[0,0].set_title(\"Alpha\")\n",
    "\n",
    "# beta\n",
    "ax[0,1].plot(beta)\n",
    "ax[0,1].set_title(\"Beta\")\n",
    "\n",
    "# delta\n",
    "ax[1,0].plot(delta)\n",
    "ax[1,0].set_title(\"Delta\")\n",
    "\n",
    "# theta\n",
    "ax[1,1].plot(theta)\n",
    "ax[1,1].set_title(\"Theta\")"
   ]
  },
  {
   "cell_type": "code",
   "execution_count": 195,
   "metadata": {},
   "outputs": [
    {
     "data": {
      "text/plain": [
       "array([-6.1797816e-01,  5.5373132e-01, -8.2755638e+01,  8.7813201e-04],\n",
       "      dtype=float32)"
      ]
     },
     "execution_count": 195,
     "metadata": {},
     "output_type": "execute_result"
    }
   ],
   "source": [
    "np.mean(X_burn, axis=0)"
   ]
  },
  {
   "cell_type": "code",
   "execution_count": 196,
   "metadata": {},
   "outputs": [
    {
     "data": {
      "text/plain": [
       "array([-6.1374199e-01,  5.4132146e-01, -7.0613609e+01,  2.1522817e-31],\n",
       "      dtype=float32)"
      ]
     },
     "execution_count": 196,
     "metadata": {},
     "output_type": "execute_result"
    }
   ],
   "source": [
    "np.median(X_burn, axis=0)"
   ]
  },
  {
   "cell_type": "code",
   "execution_count": 197,
   "metadata": {},
   "outputs": [
    {
     "data": {
      "text/plain": [
       "array([[-1.05854952e+00,  3.46958697e-01, -2.22003967e+02,\n",
       "         0.00000000e+00],\n",
       "       [-1.57385901e-01,  8.54374230e-01, -6.10197258e+00,\n",
       "         2.23344844e-03]])"
      ]
     },
     "execution_count": 197,
     "metadata": {},
     "output_type": "execute_result"
    }
   ],
   "source": [
    "np.quantile(X_burn, [0.025, 0.975], axis=0)"
   ]
  },
  {
   "cell_type": "code",
   "execution_count": 198,
   "metadata": {},
   "outputs": [
    {
     "data": {
      "text/plain": [
       "array([2.3197271e-01, 1.2987067e-01, 5.9382401e+01, 1.1874951e-02],\n",
       "      dtype=float32)"
      ]
     },
     "execution_count": 198,
     "metadata": {},
     "output_type": "execute_result"
    }
   ],
   "source": [
    "np.std(X_burn, axis=0)"
   ]
  },
  {
   "cell_type": "code",
   "execution_count": 199,
   "metadata": {},
   "outputs": [
    {
     "data": {
      "text/plain": [
       "array([0.9405, 0.8362])"
      ]
     },
     "execution_count": 199,
     "metadata": {},
     "output_type": "execute_result"
    }
   ],
   "source": [
    "P"
   ]
  },
  {
   "cell_type": "code",
   "execution_count": null,
   "metadata": {},
   "outputs": [],
   "source": []
  }
 ],
 "metadata": {
  "kernelspec": {
   "display_name": "Python 3",
   "language": "python",
   "name": "python3"
  },
  "language_info": {
   "codemirror_mode": {
    "name": "ipython",
    "version": 3
   },
   "file_extension": ".py",
   "mimetype": "text/x-python",
   "name": "python",
   "nbconvert_exporter": "python",
   "pygments_lexer": "ipython3",
   "version": "3.7.4"
  }
 },
 "nbformat": 4,
 "nbformat_minor": 2
}
