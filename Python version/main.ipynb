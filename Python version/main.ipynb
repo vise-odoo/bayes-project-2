{
 "cells": [
  {
   "cell_type": "markdown",
   "metadata": {},
   "source": [
    "# Projet Bayes 2 - Hearts"
   ]
  },
  {
   "cell_type": "markdown",
   "metadata": {},
   "source": [
    "## Importation des données"
   ]
  },
  {
   "cell_type": "code",
   "execution_count": 1,
   "metadata": {},
   "outputs": [],
   "source": [
    "import pandas as pd\n",
    "import numpy as np\n",
    "import os\n",
    "import matplotlib.pyplot as plt"
   ]
  },
  {
   "cell_type": "code",
   "execution_count": 2,
   "metadata": {},
   "outputs": [],
   "source": [
    "path = \"data.csv\""
   ]
  },
  {
   "cell_type": "code",
   "execution_count": 3,
   "metadata": {},
   "outputs": [
    {
     "data": {
      "text/html": [
       "<div>\n",
       "<style scoped>\n",
       "    .dataframe tbody tr th:only-of-type {\n",
       "        vertical-align: middle;\n",
       "    }\n",
       "\n",
       "    .dataframe tbody tr th {\n",
       "        vertical-align: top;\n",
       "    }\n",
       "\n",
       "    .dataframe thead th {\n",
       "        text-align: right;\n",
       "    }\n",
       "</style>\n",
       "<table border=\"1\" class=\"dataframe\">\n",
       "  <thead>\n",
       "    <tr style=\"text-align: right;\">\n",
       "      <th></th>\n",
       "      <th>Unnamed: 0</th>\n",
       "      <th>t</th>\n",
       "      <th>x</th>\n",
       "      <th>y</th>\n",
       "    </tr>\n",
       "  </thead>\n",
       "  <tbody>\n",
       "    <tr>\n",
       "      <th>0</th>\n",
       "      <td>1</td>\n",
       "      <td>11</td>\n",
       "      <td>6</td>\n",
       "      <td>5</td>\n",
       "    </tr>\n",
       "    <tr>\n",
       "      <th>1</th>\n",
       "      <td>2</td>\n",
       "      <td>11</td>\n",
       "      <td>9</td>\n",
       "      <td>2</td>\n",
       "    </tr>\n",
       "    <tr>\n",
       "      <th>2</th>\n",
       "      <td>3</td>\n",
       "      <td>17</td>\n",
       "      <td>17</td>\n",
       "      <td>0</td>\n",
       "    </tr>\n",
       "    <tr>\n",
       "      <th>3</th>\n",
       "      <td>4</td>\n",
       "      <td>22</td>\n",
       "      <td>22</td>\n",
       "      <td>0</td>\n",
       "    </tr>\n",
       "    <tr>\n",
       "      <th>4</th>\n",
       "      <td>5</td>\n",
       "      <td>9</td>\n",
       "      <td>7</td>\n",
       "      <td>2</td>\n",
       "    </tr>\n",
       "    <tr>\n",
       "      <th>5</th>\n",
       "      <td>6</td>\n",
       "      <td>6</td>\n",
       "      <td>5</td>\n",
       "      <td>1</td>\n",
       "    </tr>\n",
       "    <tr>\n",
       "      <th>6</th>\n",
       "      <td>7</td>\n",
       "      <td>5</td>\n",
       "      <td>5</td>\n",
       "      <td>0</td>\n",
       "    </tr>\n",
       "    <tr>\n",
       "      <th>7</th>\n",
       "      <td>8</td>\n",
       "      <td>14</td>\n",
       "      <td>14</td>\n",
       "      <td>0</td>\n",
       "    </tr>\n",
       "    <tr>\n",
       "      <th>8</th>\n",
       "      <td>9</td>\n",
       "      <td>9</td>\n",
       "      <td>9</td>\n",
       "      <td>0</td>\n",
       "    </tr>\n",
       "    <tr>\n",
       "      <th>9</th>\n",
       "      <td>10</td>\n",
       "      <td>7</td>\n",
       "      <td>7</td>\n",
       "      <td>0</td>\n",
       "    </tr>\n",
       "    <tr>\n",
       "      <th>10</th>\n",
       "      <td>11</td>\n",
       "      <td>22</td>\n",
       "      <td>9</td>\n",
       "      <td>13</td>\n",
       "    </tr>\n",
       "    <tr>\n",
       "      <th>11</th>\n",
       "      <td>12</td>\n",
       "      <td>51</td>\n",
       "      <td>51</td>\n",
       "      <td>0</td>\n",
       "    </tr>\n",
       "  </tbody>\n",
       "</table>\n",
       "</div>"
      ],
      "text/plain": [
       "    Unnamed: 0   t   x   y\n",
       "0            1  11   6   5\n",
       "1            2  11   9   2\n",
       "2            3  17  17   0\n",
       "3            4  22  22   0\n",
       "4            5   9   7   2\n",
       "5            6   6   5   1\n",
       "6            7   5   5   0\n",
       "7            8  14  14   0\n",
       "8            9   9   9   0\n",
       "9           10   7   7   0\n",
       "10          11  22   9  13\n",
       "11          12  51  51   0"
      ]
     },
     "execution_count": 3,
     "metadata": {},
     "output_type": "execute_result"
    }
   ],
   "source": [
    "data = pd.read_csv(path)\n",
    "data"
   ]
  },
  {
   "cell_type": "markdown",
   "metadata": {},
   "source": [
    "## Échantilloneur"
   ]
  },
  {
   "cell_type": "code",
   "execution_count": 4,
   "metadata": {},
   "outputs": [],
   "source": [
    "def sigmoid(x):\n",
    "    return 1. / (1. + np.exp(-x))"
   ]
  },
  {
   "cell_type": "code",
   "execution_count": 5,
   "metadata": {},
   "outputs": [],
   "source": [
    "init = [0,0]"
   ]
  },
  {
   "cell_type": "code",
   "execution_count": 6,
   "metadata": {},
   "outputs": [],
   "source": [
    "def MH (data,init,n,prop_sd,sigma = 1e2) :\n",
    "    # X = [alpha, beta, delta, theta]\n",
    "    X = np.zeros((n+1,4), dtype=np.float32)\n",
    "    X[0] = [init[0],\n",
    "            np.exp(init[0]),\n",
    "            init[1],\n",
    "            sigmoid(init[1])]\n",
    "    id0 = (data[\"y\"] == 0)\n",
    "    id_sup = ~id0\n",
    "    \n",
    "    # Calcul des probas d'acceptation\n",
    "    P = [0,0]\n",
    "    \n",
    "    for i in range(1,n+1) :\n",
    "        # Calcul de alpha\n",
    "        alpha = X[i-1,0]\n",
    "        theta = X[i-1,3]\n",
    "        prop_alpha = np.random.normal(alpha,prop_sd[0])\n",
    "        \n",
    "        def log_pdf_alpha(x) :\n",
    "            p = sigmoid(x)\n",
    "            \n",
    "            s = -(x**2)/(2*sigma**2) + \\\n",
    "            np.sum(np.log(theta + (1-theta)*(1-p)**data[id0][\"t\"])) + \\\n",
    "            np.sum(data[id_sup][\"y\"]*np.log(p) + (data[id_sup][\"t\"] - data[id_sup][\"y\"])*np.log(1-p))\n",
    "            \n",
    "            return s\n",
    "        \n",
    "        top = log_pdf_alpha(prop_alpha)\n",
    "        bottom = log_pdf_alpha(alpha)\n",
    "        acc = np.exp(top - bottom)\n",
    "        \n",
    "        if np.random.uniform() < acc :\n",
    "            X[i,0] = prop_alpha\n",
    "            P[0] +=1\n",
    "        else : \n",
    "            X[i,0] = alpha\n",
    "        \n",
    "        # Calcul de delta\n",
    "        delta = X[i-1,2]\n",
    "        p = sigmoid(X[i,0])\n",
    "        prop_delta = np.random.normal(delta,prop_sd[1])\n",
    "        \n",
    "        def log_pdf_delta(x) :\n",
    "            theta = sigmoid(x)\n",
    "            \n",
    "            s = -(x**2)/(2*sigma**2) + \\\n",
    "            np.sum(np.log(theta + (1-theta)*(1-p)**data[id0][\"t\"])) + \\\n",
    "            np.log(1-theta)*np.sum(id_sup)\n",
    "            \n",
    "            return s\n",
    "        \n",
    "        top = log_pdf_delta(prop_delta)\n",
    "        bottom = log_pdf_delta(delta)\n",
    "\n",
    "        acc = np.exp(top - bottom)\n",
    "        \n",
    "        if np.random.uniform() < acc :\n",
    "            X[i,2] = prop_delta\n",
    "            P[1] += 1\n",
    "        else : \n",
    "            X[i,2] = delta\n",
    "            \n",
    "        # Calcul de beta et theta\n",
    "        X[i,1] = np.exp(X[i,0])\n",
    "        X[i,3] = sigmoid(X[i,2])\n",
    "        \n",
    "    return (X,np.array(P)/n)"
   ]
  },
  {
   "cell_type": "code",
   "execution_count": 7,
   "metadata": {},
   "outputs": [],
   "source": [
    "X,P = MH(data,init,10000,[0.05,1])"
   ]
  },
  {
   "cell_type": "markdown",
   "metadata": {},
   "source": [
    "## Analyse des résultats"
   ]
  },
  {
   "cell_type": "code",
   "execution_count": 8,
   "metadata": {},
   "outputs": [],
   "source": [
    "X_burn = X[1000:]\n",
    "alpha = X_burn[:,0]\n",
    "beta = X_burn[:,1]\n",
    "delta = X_burn[:,2]\n",
    "theta = X_burn[:,3]"
   ]
  },
  {
   "cell_type": "code",
   "execution_count": 9,
   "metadata": {},
   "outputs": [
    {
     "data": {
      "text/plain": [
       "Text(0.5, 1.0, 'Theta')"
      ]
     },
     "execution_count": 9,
     "metadata": {},
     "output_type": "execute_result"
    },
    {
     "data": {
      "image/png": "[encoded data removed]",
      "text/plain": [
       "<Figure size 720x720 with 4 Axes>"
      ]
     },
     "metadata": {
      "needs_background": "light"
     },
     "output_type": "display_data"
    }
   ],
   "source": [
    "fig, ax = plt.subplots(2,2, figsize=(10, 10))\n",
    "\n",
    "# alpha\n",
    "ax[0,0].plot(alpha)\n",
    "ax[0,0].set_title(\"Alpha\")\n",
    "\n",
    "# beta\n",
    "ax[0,1].plot(beta)\n",
    "ax[0,1].set_title(\"Beta\")\n",
    "\n",
    "# delta\n",
    "ax[1,0].plot(delta)\n",
    "ax[1,0].set_title(\"Delta\")\n",
    "\n",
    "# theta\n",
    "ax[1,1].plot(theta)\n",
    "ax[1,1].set_title(\"Theta\")"
   ]
  },
  {
   "cell_type": "code",
   "execution_count": 10,
   "metadata": {},
   "outputs": [
    {
     "data": {
      "text/plain": [
       "array([0.9434, 0.5728])"
      ]
     },
     "execution_count": 10,
     "metadata": {},
     "output_type": "execute_result"
    }
   ],
   "source": [
    "P"
   ]
  },
  {
   "cell_type": "code",
   "execution_count": 11,
   "metadata": {},
   "outputs": [
    {
     "data": {
      "text/html": [
       "<div>\n",
       "<style scoped>\n",
       "    .dataframe tbody tr th:only-of-type {\n",
       "        vertical-align: middle;\n",
       "    }\n",
       "\n",
       "    .dataframe tbody tr th {\n",
       "        vertical-align: top;\n",
       "    }\n",
       "\n",
       "    .dataframe thead th {\n",
       "        text-align: right;\n",
       "    }\n",
       "</style>\n",
       "<table border=\"1\" class=\"dataframe\">\n",
       "  <thead>\n",
       "    <tr style=\"text-align: right;\">\n",
       "      <th></th>\n",
       "      <th>alpha</th>\n",
       "      <th>beta</th>\n",
       "      <th>delta</th>\n",
       "      <th>theta</th>\n",
       "    </tr>\n",
       "  </thead>\n",
       "  <tbody>\n",
       "    <tr>\n",
       "      <th>count</th>\n",
       "      <td>9001.000000</td>\n",
       "      <td>9001.000000</td>\n",
       "      <td>9001.000000</td>\n",
       "      <td>9001.000000</td>\n",
       "    </tr>\n",
       "    <tr>\n",
       "      <th>mean</th>\n",
       "      <td>-0.457498</td>\n",
       "      <td>0.654220</td>\n",
       "      <td>0.292613</td>\n",
       "      <td>0.566757</td>\n",
       "    </tr>\n",
       "    <tr>\n",
       "      <th>std</th>\n",
       "      <td>0.258600</td>\n",
       "      <td>0.169784</td>\n",
       "      <td>0.623994</td>\n",
       "      <td>0.141027</td>\n",
       "    </tr>\n",
       "    <tr>\n",
       "      <th>min</th>\n",
       "      <td>-1.369842</td>\n",
       "      <td>0.254147</td>\n",
       "      <td>-2.279330</td>\n",
       "      <td>0.092849</td>\n",
       "    </tr>\n",
       "    <tr>\n",
       "      <th>2.5%</th>\n",
       "      <td>-0.982563</td>\n",
       "      <td>0.374351</td>\n",
       "      <td>-0.882364</td>\n",
       "      <td>0.292688</td>\n",
       "    </tr>\n",
       "    <tr>\n",
       "      <th>50%</th>\n",
       "      <td>-0.458911</td>\n",
       "      <td>0.631972</td>\n",
       "      <td>0.296920</td>\n",
       "      <td>0.573690</td>\n",
       "    </tr>\n",
       "    <tr>\n",
       "      <th>97.5%</th>\n",
       "      <td>0.027647</td>\n",
       "      <td>1.028032</td>\n",
       "      <td>1.528998</td>\n",
       "      <td>0.821860</td>\n",
       "    </tr>\n",
       "    <tr>\n",
       "      <th>max</th>\n",
       "      <td>0.292419</td>\n",
       "      <td>1.339665</td>\n",
       "      <td>2.437030</td>\n",
       "      <td>0.919608</td>\n",
       "    </tr>\n",
       "  </tbody>\n",
       "</table>\n",
       "</div>"
      ],
      "text/plain": [
       "             alpha         beta        delta        theta\n",
       "count  9001.000000  9001.000000  9001.000000  9001.000000\n",
       "mean     -0.457498     0.654220     0.292613     0.566757\n",
       "std       0.258600     0.169784     0.623994     0.141027\n",
       "min      -1.369842     0.254147    -2.279330     0.092849\n",
       "2.5%     -0.982563     0.374351    -0.882364     0.292688\n",
       "50%      -0.458911     0.631972     0.296920     0.573690\n",
       "97.5%     0.027647     1.028032     1.528998     0.821860\n",
       "max       0.292419     1.339665     2.437030     0.919608"
      ]
     },
     "execution_count": 11,
     "metadata": {},
     "output_type": "execute_result"
    }
   ],
   "source": [
    "coef = {'alpha': alpha,\n",
    "       'beta': beta,\n",
    "       'delta': delta,\n",
    "       'theta': theta}\n",
    "coef = pd.DataFrame(coef)\n",
    "coef.describe(percentiles=[0.025,0.975])"
   ]
  },
  {
   "cell_type": "code",
   "execution_count": 13,
   "metadata": {},
   "outputs": [
    {
     "name": "stdout",
     "output_type": "stream",
     "text": [
      "\\begin{tabular}{lrrrr}\n",
      "\\toprule\n",
      "{} &        alpha &         beta &        delta &        theta \\\\\n",
      "\\midrule\n",
      "count &  9001.000000 &  9001.000000 &  9001.000000 &  9001.000000 \\\\\n",
      "mean  &    -0.457498 &     0.654220 &     0.292613 &     0.566757 \\\\\n",
      "std   &     0.258600 &     0.169784 &     0.623994 &     0.141027 \\\\\n",
      "min   &    -1.369842 &     0.254147 &    -2.279330 &     0.092849 \\\\\n",
      "2.5\\%  &    -0.982563 &     0.374351 &    -0.882364 &     0.292688 \\\\\n",
      "50\\%   &    -0.458911 &     0.631972 &     0.296920 &     0.573690 \\\\\n",
      "97.5\\% &     0.027647 &     1.028032 &     1.528998 &     0.821860 \\\\\n",
      "max   &     0.292419 &     1.339665 &     2.437030 &     0.919608 \\\\\n",
      "\\bottomrule\n",
      "\\end{tabular}\n",
      "\n"
     ]
    },
    {
     "name": "stderr",
     "output_type": "stream",
     "text": [
      "/tmp/ipykernel_10905/2179905425.py:1: FutureWarning: In future versions `DataFrame.to_latex` is expected to utilise the base implementation of `Styler.to_latex` for formatting and rendering. The arguments signature may therefore change. It is recommended instead to use `DataFrame.style.to_latex` which also contains additional functionality.\n",
      "  print(coef.describe(percentiles=[0.025,0.975]).to_latex())\n"
     ]
    }
   ],
   "source": [
    "print(coef.describe(percentiles=[0.025,0.975]).to_latex())"
   ]
  },
  {
   "cell_type": "code",
   "execution_count": null,
   "metadata": {},
   "outputs": [],
   "source": []
  }
 ],
 "metadata": {
  "kernelspec": {
   "display_name": "Python 3 (ipykernel)",
   "language": "python",
   "name": "python3"
  },
  "language_info": {
   "codemirror_mode": {
    "name": "ipython",
    "version": 3
   },
   "file_extension": ".py",
   "mimetype": "text/x-python",
   "name": "python",
   "nbconvert_exporter": "python",
   "pygments_lexer": "ipython3",
   "version": "3.8.10"
  }
 },
 "nbformat": 4,
 "nbformat_minor": 2
}
