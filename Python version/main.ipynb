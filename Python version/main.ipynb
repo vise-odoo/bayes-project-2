{
 "cells": [
  {
   "cell_type": "markdown",
   "metadata": {},
   "source": [
    "# Projet Bayes 2 - Hearts"
   ]
  },
  {
   "cell_type": "markdown",
   "metadata": {},
   "source": [
    "Auteurs:\n",
    "- Karim CHAKROUN\n",
    "- Maxime GOURCEYRAUD\n",
    "- Charles MIRANDA\n",
    "- Vincent SEVESTRE"
   ]
  },
  {
   "cell_type": "markdown",
   "metadata": {},
   "source": [
    "## Importation des données"
   ]
  },
  {
   "cell_type": "code",
   "execution_count": 1,
   "metadata": {},
   "outputs": [],
   "source": [
    "import pandas as pd\n",
    "import numpy as np\n",
    "import os\n",
    "import matplotlib.pyplot as plt"
   ]
  },
  {
   "cell_type": "code",
   "execution_count": 2,
   "metadata": {},
   "outputs": [],
   "source": [
    "path = \"data.csv\" # chemin du jeu de données"
   ]
  },
  {
   "cell_type": "markdown",
   "metadata": {},
   "source": [
    "Le jeu de données correspond à l'effet d'un médicament utilisé pour traiter des patients souffrant de fréquentes contractions ventriculaires prématurées (CVP) du coeur.\n",
    "\n",
    "- $x_i$ est le nombre de CVP par minute avant la prise du médicament\n",
    "- $y_i$ est le nombre de CVP par minute après la prise du médicament\n",
    "- $t_i=x_i+y_i$"
   ]
  },
  {
   "cell_type": "code",
   "execution_count": 15,
   "metadata": {},
   "outputs": [
    {
     "data": {
      "text/html": [
       "<div>\n",
       "<style scoped>\n",
       "    .dataframe tbody tr th:only-of-type {\n",
       "        vertical-align: middle;\n",
       "    }\n",
       "\n",
       "    .dataframe tbody tr th {\n",
       "        vertical-align: top;\n",
       "    }\n",
       "\n",
       "    .dataframe thead th {\n",
       "        text-align: right;\n",
       "    }\n",
       "</style>\n",
       "<table border=\"1\" class=\"dataframe\">\n",
       "  <thead>\n",
       "    <tr style=\"text-align: right;\">\n",
       "      <th></th>\n",
       "      <th>t</th>\n",
       "      <th>x</th>\n",
       "      <th>y</th>\n",
       "    </tr>\n",
       "  </thead>\n",
       "  <tbody>\n",
       "    <tr>\n",
       "      <th>0</th>\n",
       "      <td>11</td>\n",
       "      <td>6</td>\n",
       "      <td>5</td>\n",
       "    </tr>\n",
       "    <tr>\n",
       "      <th>1</th>\n",
       "      <td>11</td>\n",
       "      <td>9</td>\n",
       "      <td>2</td>\n",
       "    </tr>\n",
       "    <tr>\n",
       "      <th>2</th>\n",
       "      <td>17</td>\n",
       "      <td>17</td>\n",
       "      <td>0</td>\n",
       "    </tr>\n",
       "    <tr>\n",
       "      <th>3</th>\n",
       "      <td>22</td>\n",
       "      <td>22</td>\n",
       "      <td>0</td>\n",
       "    </tr>\n",
       "    <tr>\n",
       "      <th>4</th>\n",
       "      <td>9</td>\n",
       "      <td>7</td>\n",
       "      <td>2</td>\n",
       "    </tr>\n",
       "    <tr>\n",
       "      <th>5</th>\n",
       "      <td>6</td>\n",
       "      <td>5</td>\n",
       "      <td>1</td>\n",
       "    </tr>\n",
       "    <tr>\n",
       "      <th>6</th>\n",
       "      <td>5</td>\n",
       "      <td>5</td>\n",
       "      <td>0</td>\n",
       "    </tr>\n",
       "    <tr>\n",
       "      <th>7</th>\n",
       "      <td>14</td>\n",
       "      <td>14</td>\n",
       "      <td>0</td>\n",
       "    </tr>\n",
       "    <tr>\n",
       "      <th>8</th>\n",
       "      <td>9</td>\n",
       "      <td>9</td>\n",
       "      <td>0</td>\n",
       "    </tr>\n",
       "    <tr>\n",
       "      <th>9</th>\n",
       "      <td>7</td>\n",
       "      <td>7</td>\n",
       "      <td>0</td>\n",
       "    </tr>\n",
       "    <tr>\n",
       "      <th>10</th>\n",
       "      <td>22</td>\n",
       "      <td>9</td>\n",
       "      <td>13</td>\n",
       "    </tr>\n",
       "    <tr>\n",
       "      <th>11</th>\n",
       "      <td>51</td>\n",
       "      <td>51</td>\n",
       "      <td>0</td>\n",
       "    </tr>\n",
       "  </tbody>\n",
       "</table>\n",
       "</div>"
      ],
      "text/plain": [
       "     t   x   y\n",
       "0   11   6   5\n",
       "1   11   9   2\n",
       "2   17  17   0\n",
       "3   22  22   0\n",
       "4    9   7   2\n",
       "5    6   5   1\n",
       "6    5   5   0\n",
       "7   14  14   0\n",
       "8    9   9   0\n",
       "9    7   7   0\n",
       "10  22   9  13\n",
       "11  51  51   0"
      ]
     },
     "execution_count": 15,
     "metadata": {},
     "output_type": "execute_result"
    }
   ],
   "source": [
    "data = pd.read_csv(path)\n",
    "data = data.iloc[:, 1:] # on enlève la première colonne puisqu'elle contient juste les indices\n",
    "data"
   ]
  },
  {
   "cell_type": "markdown",
   "metadata": {},
   "source": [
    "## Échantilloneur"
   ]
  },
  {
   "cell_type": "markdown",
   "metadata": {},
   "source": [
    "Farewell et Sprott ont modélisé ces données en 1988 comme un mélange de distributions de Poisson dans lequel certains patients sont \"guéris\" par le médicament, tandis que d'autres présentent des niveaux variables de réponse mais restent anormaux. Une valeur nulle après la prise du médicament peut indiquer une \"guérison\", ou peut représenter un zéro d'échantillonnage d'un patient avec un CVP anormal. Le modèle suivant est donc supposé\n",
    "$$\n",
    "x_i \\sim \\mathcal P(\\lambda_i) ~ ,\\text{pour tous les patients} \\\\\n",
    "y_i \\sim \\mathcal P(\\beta \\lambda_i) ~ ,\\text{pour tous les patients }\\textit{non soignés} \\\\\n",
    "\\mathbb P(Cure) = \\theta\n",
    "$$"
   ]
  },
  {
   "cell_type": "markdown",
   "metadata": {},
   "source": [
    "Pour éliminer les paramètres de nuisance $\\lambda_i$, Farewell et Sprott utilisent la distribution conditionnelle de $y_i$ sachant $t_i = x_i + y_i$. C'est équivalent à une vraisemblance binomiale de $y_i$ parmi $t_i$ avec une probabilité $p = \\frac{\\beta}{1+\\beta}$. Le modèle de mélange final est donc\n",
    "$$\n",
    "\\mathbb P(y_i = 0 | t_i) = \\theta + (1-\\theta)(1-p)^{t_i} \\\\\n",
    "\\mathbb P(y_i | t_i) = (1-\\theta) \\binom{t_i}{y_i} p^{y_i}(1-p)^{t_i-y_i} ~ \\text{pour} ~ y_i > 0\n",
    "$$"
   ]
  },
  {
   "cell_type": "markdown",
   "metadata": {},
   "source": [
    "Afin de pouvoir déterminer $\\beta$ et $\\theta$ nous considérons les lois à priori $\\alpha, \\delta \\sim \\mathcal N(0, \\sigma^2)$, avec $\\sigma^2 = 10^4$, telles que\n",
    "$$\n",
    "\\operatorname{logit}(p) = \\alpha \\iff \\beta = \\exp(\\alpha) \\\\\n",
    "\\operatorname{logit}(\\theta) = \\delta\n",
    "$$"
   ]
  },
  {
   "cell_type": "markdown",
   "metadata": {},
   "source": [
    "Après calculs et simplification nous obtenons les densités suivantes\n",
    "$$\n",
    "\\begin{align*}\n",
    "    \\pi(\\alpha | \\mathbf y, \\delta) &\\propto \\pi(\\alpha) \\prod_{i = 1}^n{\\pi(y_i | \\alpha, \\delta)} \\\\\n",
    "    &\\propto \\exp(-\\frac{\\alpha^2}{2\\sigma^2}) \\left(\\prod_{\\substack{i = 1 \\\\ y_i = 0}}^n(\\theta + (1-\\theta)(1-p)^{t_i})\\right) \\left(\\prod_{\\substack{i = 1 \\\\ y_i > 0}}^n(1-\\theta)p^{y_i}(1-p)^{t_i-y_i}\\right)\n",
    "\\end{align*}\n",
    "$$\n",
    "et donc par passage au $\\log$\n",
    "$$\n",
    "\\log \\pi(\\alpha | \\mathbf y, \\delta) = cst - \\frac{\\alpha^2}{2\\sigma^2} + \\sum_{\\substack{i = 1 \\\\ y_i = 0}}^n\\log(\\theta + (1-\\theta)(1-p)^{t_i}) + \\sum_{\\substack{i = 1 \\\\ y_i > 0}}^n(y_i\\log{p} + (t_i-y_i)\\log(1-p))\n",
    "$$\n",
    "\n",
    "Par analogie pour $\\delta$ on obtient\n",
    "$$\n",
    "\\log \\pi(\\delta | \\mathbf y, \\alpha) = cst - \\frac{\\delta^2}{2\\sigma^2} + \\sum_{\\substack{i = 1 \\\\ y_i = 0}}^n\\log(\\theta + (1-\\theta)(1-p)^{t_i}) + \\sum_{\\substack{i = 1 \\\\ y_i > 0}}^n\\log(1-\\theta)\n",
    "$$"
   ]
  },
  {
   "cell_type": "code",
   "execution_count": 4,
   "metadata": {},
   "outputs": [],
   "source": [
    "def sigmoid(x):\n",
    "    return 1. / (1. + np.exp(-x))"
   ]
  },
  {
   "cell_type": "code",
   "execution_count": 16,
   "metadata": {},
   "outputs": [],
   "source": [
    "init = [0, # alpha\n",
    "        0] # delta"
   ]
  },
  {
   "cell_type": "code",
   "execution_count": 26,
   "metadata": {},
   "outputs": [],
   "source": [
    "def MH(data, init, n, prop_sd, sigma = 1e2):\n",
    "    # X = [alpha, beta, delta, theta]\n",
    "    X = np.zeros((n+1,4), dtype=np.float32)\n",
    "    X[0] = [init[0],\n",
    "            np.exp(init[0]),\n",
    "            init[1],\n",
    "            sigmoid(init[1])]\n",
    "    \n",
    "    id0 = (data[\"y\"] == 0)\n",
    "    cured = data[id0]\n",
    "    not_cured = data[~id0]\n",
    "    \n",
    "    # Calcul des probas d'acceptation\n",
    "    P = [0,0]\n",
    "    \n",
    "    for i in range(1,n+1) :\n",
    "        # Calcul de alpha\n",
    "        alpha = X[i-1,0]\n",
    "        theta = X[i-1,3]\n",
    "        prop_alpha = np.random.normal(alpha,prop_sd[0])\n",
    "        \n",
    "        def log_pdf_alpha(x):\n",
    "            # dans ce cas theta est fixé\n",
    "            p = sigmoid(x)\n",
    "            \n",
    "            s = -(x**2)/(2*sigma**2) + \\\n",
    "                np.sum(np.log(theta + (1-theta)*(1-p)**cured[\"t\"])) + \\\n",
    "                np.sum(not_cured[\"y\"]*np.log(p) + (not_cured[\"t\"] - not_cured[\"y\"])*np.log(1-p))\n",
    "            \n",
    "            return s\n",
    "        \n",
    "        ## calcul de la proba d'acceptation d'alpha\n",
    "        top = log_pdf_alpha(prop_alpha)\n",
    "        bottom = log_pdf_alpha(alpha)\n",
    "        acc = np.exp(top - bottom)\n",
    "        \n",
    "        if np.random.uniform() < acc :\n",
    "            X[i,0] = prop_alpha\n",
    "            P[0] +=1\n",
    "        else : \n",
    "            X[i,0] = alpha\n",
    "        \n",
    "        # Calcul de delta\n",
    "        delta = X[i-1,2]\n",
    "        p = sigmoid(X[i,0])\n",
    "        prop_delta = np.random.normal(delta,prop_sd[1])\n",
    "        \n",
    "        def log_pdf_delta(x):\n",
    "            # dans ce cas p est fixé\n",
    "            theta = sigmoid(x)\n",
    "            \n",
    "            s = -(x**2)/(2*sigma**2) + \\\n",
    "                np.sum(np.log(theta + (1-theta)*(1-p)**cured[\"t\"])) + \\\n",
    "                np.log(1-theta)*len(not_cured)\n",
    "            \n",
    "            return s\n",
    "        \n",
    "        ## calcul de la proba d'acceptation de delta\n",
    "        top = log_pdf_delta(prop_delta)\n",
    "        bottom = log_pdf_delta(delta)\n",
    "\n",
    "        acc = np.exp(top - bottom)\n",
    "        \n",
    "        if np.random.uniform() < acc :\n",
    "            X[i,2] = prop_delta\n",
    "            P[1] += 1\n",
    "        else : \n",
    "            X[i,2] = delta\n",
    "            \n",
    "        # Calcul de beta et theta\n",
    "        X[i,1] = np.exp(X[i,0])\n",
    "        X[i,3] = sigmoid(X[i,2])\n",
    "        \n",
    "    return X, np.array(P)/n"
   ]
  },
  {
   "cell_type": "code",
   "execution_count": 27,
   "metadata": {},
   "outputs": [],
   "source": [
    "n = 10000\n",
    "prop_sd = [\n",
    "    0.05, # alpha\n",
    "    1 # delta\n",
    "]\n",
    "X,P = MH(data, init, n, prop_sd)"
   ]
  },
  {
   "cell_type": "markdown",
   "metadata": {},
   "source": [
    "## Analyse des résultats"
   ]
  },
  {
   "cell_type": "code",
   "execution_count": 28,
   "metadata": {},
   "outputs": [],
   "source": [
    "burnin = 1000\n",
    "\n",
    "X_burn = X[burnin:]\n",
    "coefficients = ['alpha', 'beta', 'delta', 'theta']"
   ]
  },
  {
   "cell_type": "code",
   "execution_count": 29,
   "metadata": {},
   "outputs": [
    {
     "data": {
      "image/png": "[encoded data removed]",
      "text/plain": [
       "<Figure size 720x720 with 4 Axes>"
      ]
     },
     "metadata": {
      "needs_background": "light"
     },
     "output_type": "display_data"
    }
   ],
   "source": [
    "fig = plt.figure(figsize=(10, 10))\n",
    "\n",
    "for i, coeff in enumerate(coefficients):\n",
    "    ax = fig.add_subplot(2, 2, 1 + i)\n",
    "    ax.set_title(coeff)\n",
    "    ax.plot(X_burn[:, i])"
   ]
  },
  {
   "cell_type": "code",
   "execution_count": 10,
   "metadata": {},
   "outputs": [
    {
     "data": {
      "text/plain": [
       "array([0.9434, 0.5728])"
      ]
     },
     "execution_count": 10,
     "metadata": {},
     "output_type": "execute_result"
    }
   ],
   "source": [
    "P # proba d'acceptation"
   ]
  },
  {
   "cell_type": "code",
   "execution_count": 31,
   "metadata": {},
   "outputs": [
    {
     "data": {
      "text/html": [
       "<div>\n",
       "<style scoped>\n",
       "    .dataframe tbody tr th:only-of-type {\n",
       "        vertical-align: middle;\n",
       "    }\n",
       "\n",
       "    .dataframe tbody tr th {\n",
       "        vertical-align: top;\n",
       "    }\n",
       "\n",
       "    .dataframe thead th {\n",
       "        text-align: right;\n",
       "    }\n",
       "</style>\n",
       "<table border=\"1\" class=\"dataframe\">\n",
       "  <thead>\n",
       "    <tr style=\"text-align: right;\">\n",
       "      <th></th>\n",
       "      <th>alpha</th>\n",
       "      <th>beta</th>\n",
       "      <th>delta</th>\n",
       "      <th>theta</th>\n",
       "    </tr>\n",
       "  </thead>\n",
       "  <tbody>\n",
       "    <tr>\n",
       "      <th>count</th>\n",
       "      <td>9001.000000</td>\n",
       "      <td>9001.000000</td>\n",
       "      <td>9001.000000</td>\n",
       "      <td>9001.000000</td>\n",
       "    </tr>\n",
       "    <tr>\n",
       "      <th>mean</th>\n",
       "      <td>-0.440262</td>\n",
       "      <td>0.668435</td>\n",
       "      <td>0.315885</td>\n",
       "      <td>0.572062</td>\n",
       "    </tr>\n",
       "    <tr>\n",
       "      <th>std</th>\n",
       "      <td>0.272396</td>\n",
       "      <td>0.188216</td>\n",
       "      <td>0.608252</td>\n",
       "      <td>0.137296</td>\n",
       "    </tr>\n",
       "    <tr>\n",
       "      <th>min</th>\n",
       "      <td>-1.252164</td>\n",
       "      <td>0.285885</td>\n",
       "      <td>-1.909157</td>\n",
       "      <td>0.129076</td>\n",
       "    </tr>\n",
       "    <tr>\n",
       "      <th>2.5%</th>\n",
       "      <td>-0.975509</td>\n",
       "      <td>0.377000</td>\n",
       "      <td>-0.874970</td>\n",
       "      <td>0.294221</td>\n",
       "    </tr>\n",
       "    <tr>\n",
       "      <th>50%</th>\n",
       "      <td>-0.447940</td>\n",
       "      <td>0.638943</td>\n",
       "      <td>0.305319</td>\n",
       "      <td>0.575742</td>\n",
       "    </tr>\n",
       "    <tr>\n",
       "      <th>97.5%</th>\n",
       "      <td>0.102329</td>\n",
       "      <td>1.107748</td>\n",
       "      <td>1.558110</td>\n",
       "      <td>0.826082</td>\n",
       "    </tr>\n",
       "    <tr>\n",
       "      <th>max</th>\n",
       "      <td>0.443986</td>\n",
       "      <td>1.558908</td>\n",
       "      <td>2.483371</td>\n",
       "      <td>0.922968</td>\n",
       "    </tr>\n",
       "  </tbody>\n",
       "</table>\n",
       "</div>"
      ],
      "text/plain": [
       "             alpha         beta        delta        theta\n",
       "count  9001.000000  9001.000000  9001.000000  9001.000000\n",
       "mean     -0.440262     0.668435     0.315885     0.572062\n",
       "std       0.272396     0.188216     0.608252     0.137296\n",
       "min      -1.252164     0.285885    -1.909157     0.129076\n",
       "2.5%     -0.975509     0.377000    -0.874970     0.294221\n",
       "50%      -0.447940     0.638943     0.305319     0.575742\n",
       "97.5%     0.102329     1.107748     1.558110     0.826082\n",
       "max       0.443986     1.558908     2.483371     0.922968"
      ]
     },
     "execution_count": 31,
     "metadata": {},
     "output_type": "execute_result"
    }
   ],
   "source": [
    "coef = pd.DataFrame({\n",
    "    coeff: X_burn[:, i] for i, coeff in enumerate(coefficients)\n",
    "})\n",
    "summary = coef.describe(percentiles=[0.025,0.975])\n",
    "summary"
   ]
  },
  {
   "cell_type": "code",
   "execution_count": 33,
   "metadata": {},
   "outputs": [],
   "source": [
    "output_tex = os.path.join(\"..\", \"report\", \"output.tex\")\n",
    "summary.style.to_latex(output_tex)"
   ]
  }
 ],
 "metadata": {
  "kernelspec": {
   "display_name": "Python 3 (ipykernel)",
   "language": "python",
   "name": "python3"
  },
  "language_info": {
   "codemirror_mode": {
    "name": "ipython",
    "version": 3
   },
   "file_extension": ".py",
   "mimetype": "text/x-python",
   "name": "python",
   "nbconvert_exporter": "python",
   "pygments_lexer": "ipython3",
   "version": "3.8.10"
  }
 },
 "nbformat": 4,
 "nbformat_minor": 2
}
